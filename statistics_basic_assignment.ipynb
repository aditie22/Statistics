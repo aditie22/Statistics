{
 "cells": [
  {
   "cell_type": "markdown",
   "id": "378be860-56bc-41a2-bbc5-69617a935321",
   "metadata": {},
   "source": [
    "Q1. What is Statistics?"
   ]
  },
  {
   "cell_type": "markdown",
   "id": "b9eea39f-0d71-4bdb-ac6b-d920d2e05afd",
   "metadata": {},
   "source": [
    "Statistics refers to the branch of mathematics that involves collecting, analyzing, interpreting, presenting, and organizing data. Its primary goal is to gain insights, make inferences, and draw conclusions from data. Statistics plays a crucial role in various fields such as science, social sciences, economics, business, medicine, engineering, and more, by providing techniques to make sense of large and complex data sets.\n",
    "\n",
    "There are two main branches of statistics:\n",
    "\n",
    "Descriptive Statistics: This involves summarizing and presenting data in a meaningful and understandable manner. Descriptive statistics include measures like mean, median, mode, range, standard deviation, and various graphical representations like histograms, bar charts, and scatter plots.\n",
    "\n",
    "Inferential Statistics: This branch deals with making inferences or predictions about a population based on a sample of data. It involves techniques like hypothesis testing, confidence intervals, regression analysis, and analysis of variance (ANOVA).\n",
    "\n",
    "Statistics is used for various purposes, such as:\n",
    "\n",
    "Making informed decisions based on data-driven insights.\n",
    "Identifying patterns and trends within data.\n",
    "Testing hypotheses and making predictions about future events.\n",
    "Evaluating the effectiveness of interventions or treatments in scientific studies.\n",
    "Providing a basis for policy-making and planning in various fields.\n",
    "Overall, statistics is a powerful tool that enables us to extract meaningful information from data, make informed decisions, and understand the underlying patterns and relationships in the world around us."
   ]
  },
  {
   "cell_type": "markdown",
   "id": "108121f8-111b-438a-9fe1-98bcead5db53",
   "metadata": {},
   "source": [
    "Q2. Define the different types of statistics and give an example of when each type might be used."
   ]
  },
  {
   "cell_type": "markdown",
   "id": "e6c4d38b-e36a-4c02-b198-5d226a12d665",
   "metadata": {},
   "source": [
    "Statistics can be broadly categorized into two main types: descriptive statistics and inferential statistics. Each type serves a specific purpose in analyzing and interpreting data.\n",
    "\n",
    "Descriptive Statistics:\n",
    "Descriptive statistics involve summarizing and presenting data in a meaningful and easily understandable manner. They provide a snapshot of the main characteristics of a dataset without making any inferences beyond the observed data. Some common types of descriptive statistics include:\n",
    "\n",
    "a. Measures of Central Tendency:\n",
    "These statistics indicate where the center of a distribution lies. They include:\n",
    "\n",
    "Mean: The arithmetic average of a set of values.\n",
    "Median: The middle value in a dataset when it is arranged in ascending or descending order.\n",
    "Mode: The value that appears most frequently in a dataset.\n",
    "Example: Calculating the mean income of a group of individuals to determine their average earnings.\n",
    "\n",
    "b. Measures of Dispersion:\n",
    "These statistics describe how spread out the data points are. They include:\n",
    "\n",
    "Range: The difference between the maximum and minimum values in a dataset.\n",
    "Variance: The average of the squared differences between each data point and the mean.\n",
    "Standard Deviation: The square root of the variance, indicating the average distance of data points from the mean.\n",
    "Example: Calculating the standard deviation of test scores to understand the variation in students' performance.\n",
    "\n",
    "c. Frequency Distributions:\n",
    "These show how often each value or range of values occurs in a dataset.\n",
    "\n",
    "Example: Creating a histogram to display the frequency distribution of ages in a population.\n",
    "\n",
    "Inferential Statistics:\n",
    "Inferential statistics involve making predictions, drawing conclusions, and making inferences about a population based on a sample of data. These statistics utilize probability theory to estimate population parameters and assess the reliability of those estimates. Some common types of inferential statistics include:\n",
    "\n",
    "a. Confidence Intervals:\n",
    "A confidence interval provides a range of values within which a population parameter is likely to lie with a certain level of confidence.\n",
    "\n",
    "Example: Calculating a 95% confidence interval for the mean height of a population based on a sample of heights.\n",
    "\n",
    "b. Hypothesis Testing:\n",
    "Hypothesis testing is used to determine whether a claim or hypothesis about a population parameter is supported by the data.\n",
    "\n",
    "Example: Testing whether a new drug leads to a statistically significant improvement in patient outcomes compared to a placebo.\n",
    "\n",
    "c. Regression Analysis:\n",
    "Regression analysis examines the relationship between one or more independent variables and a dependent variable. It helps predict the value of the dependent variable based on the values of the independent variables.\n",
    "\n",
    "Example: Using regression analysis to predict a person's salary based on factors like education, years of experience, and job role.\n",
    "\n",
    "These different types of statistics work together to provide a comprehensive understanding of data, allowing researchers and analysts to make informed decisions and draw meaningful insights."
   ]
  },
  {
   "cell_type": "markdown",
   "id": "1b814341-2f5a-4644-afea-8b43cac9b18e",
   "metadata": {},
   "source": [
    "Q3. What are the different types of data and how do they differ from each other? Provide an example of\n",
    "each type of data."
   ]
  },
  {
   "cell_type": "markdown",
   "id": "698a86fe-330f-4b41-8b69-3371bc5a4002",
   "metadata": {},
   "source": [
    "Data can be categorized into different types based on their characteristics and the way they are represented or used in various contexts. The main types of data include:\n",
    "\n",
    "Numerical Data (Quantitative Data):\n",
    "Numerical data consists of numeric values and is used for quantitative analysis. It can be further divided into two subtypes: discrete and continuous.\n",
    "\n",
    "Discrete Data: Discrete data consists of distinct, separate values that are usually counted. Examples include the number of students in a class, the number of cars in a parking lot, or the number of books on a shelf.\n",
    "\n",
    "Continuous Data: Continuous data represents measurements that can take any value within a specific range. These values are usually obtained through measurements. Examples include height, weight, temperature, and time.\n",
    "\n",
    "Categorical Data (Qualitative Data):\n",
    "Categorical data represents different categories or groups. It cannot be directly measured using numerical values, and it's used to label or classify items into various groups.\n",
    "\n",
    "Nominal Data: Nominal data consists of categories with no inherent order or ranking. Examples include gender (male/female), colors (red/blue/green), and types of animals (dog/cat/bird).\n",
    "\n",
    "Ordinal Data: Ordinal data represents categories with a specific order or ranking. However, the difference between the categories may not be uniform or meaningful. Examples include educational levels (elementary/middle/high school), customer satisfaction ratings (low/medium/high), and survey responses (strongly disagree/disagree/neutral/agree/strongly agree).\n",
    "\n",
    "Text Data:\n",
    "Text data consists of unstructured textual content, such as sentences, paragraphs, articles, and documents. It is commonly used for natural language processing tasks like sentiment analysis, text classification, and language generation.\n",
    "\n",
    "Example: A collection of customer reviews for a product, where each review is a piece of text expressing the customer's opinion.\n",
    "\n",
    "Time Series Data:\n",
    "Time series data consists of observations recorded at specific time intervals. It's commonly used in analyzing trends and patterns over time.\n",
    "\n",
    "Example: Stock market prices recorded at the end of each trading day over the course of a year.\n",
    "\n",
    "Spatial Data:\n",
    "Spatial data refers to data associated with specific geographical locations. It's used in mapping, geographic information systems (GIS), and location-based services.\n",
    "\n",
    "Example: GPS coordinates of different restaurants in a city.\n",
    "\n",
    "Binary Data:\n",
    "Binary data consists of only two possible values, often represented as 0 and 1. It's commonly used in computer science and digital systems.\n",
    "\n",
    "Example: The on/off status of electronic devices.\n",
    "\n",
    "Multivariate Data:\n",
    "Multivariate data involves multiple variables or attributes for each observation. It's used to analyze relationships and interactions among multiple factors.\n",
    "\n",
    "Example: A dataset containing information about people's age, income, and education level.\n",
    "\n",
    "Each type of data serves a specific purpose and requires different methods of analysis and interpretation. Understanding these types is essential for selecting appropriate statistical techniques and tools when working with data."
   ]
  },
  {
   "cell_type": "markdown",
   "id": "7b138ecc-9e71-48ab-9eff-c8c0722ee8ee",
   "metadata": {},
   "source": [
    "Q4. Categorise the following datasets with respect to quantitative and qualitative data types:\n",
    "(i) Grading in exam: A+, A, B+, B, C+, C, D, E\n",
    "(ii) Colour of mangoes: yellow, green, orange, red\n",
    "(iii) Height data of a class: [178.9, 179, 179.5, 176, 177.2, 178.3, 175.8,...]\n",
    "(iv) Number of mangoes exported by a farm: [500, 600, 478, 672, ...]"
   ]
  },
  {
   "cell_type": "markdown",
   "id": "d54ba20e-af6e-4ac0-939e-0de72fb98e60",
   "metadata": {},
   "source": [
    "\n",
    "(i) Grading in exam: A+, A, B+, B, C+, C, D, E\n",
    "\n",
    "Data Type: Qualitative (Categorical)\n",
    "(ii) Colour of mangoes: yellow, green, orange, red\n",
    "\n",
    "Data Type: Qualitative (Categorical)\n",
    "(iii) Height data of a class: [178.9, 179, 179.5, 176, 177.2, 178.3, 175.8,...]\n",
    "\n",
    "Data Type: Quantitative (Continuous)\n",
    "(iv) Number of mangoes exported by a farm: [500, 600, 478, 672, ...]\n",
    "\n",
    "Data Type: Quantitative (Discrete)\n",
    "To summarize:\n",
    "\n",
    "Qualitative data refers to categories or labels that do not have a numerical value associated with them.\n",
    "Quantitative data can be further categorized into continuous data, which can take any value within a range, and discrete data, which consists of distinct, separate values."
   ]
  },
  {
   "cell_type": "markdown",
   "id": "4d07dac7-8ce2-4d3c-b923-6689868ae61e",
   "metadata": {},
   "source": [
    "Q5. Explain the concept of levels of measurement and give an example of a variable for each level."
   ]
  },
  {
   "cell_type": "markdown",
   "id": "c95a9f22-3a9f-4e44-ba6d-fea657cde8bf",
   "metadata": {},
   "source": [
    "Levels of measurement, also known as measurement scales or levels of data, refer to the ways in which data can be classified and organized based on the properties of the underlying variables. There are four main levels of measurement: nominal, ordinal, interval, and ratio. These levels help us understand the nature of the data and the types of statistical analyses that can be applied to them.\n",
    "\n",
    "Nominal Level:\n",
    "At this level, data is categorized into distinct, non-overlapping categories or groups. Nominal data does not have any inherent order, and the categories are simply labels. Examples of nominal variables include:\n",
    "\n",
    "Gender (e.g., Male, Female, Non-binary)\n",
    "Marital Status (e.g., Married, Single, Divorced)\n",
    "Ordinal Level:\n",
    "In this level of measurement, data is ranked or ordered, but the differences between the categories are not meaningful or uniform. There is no standard interval between the ranks. Examples of ordinal variables include:\n",
    "\n",
    "Education Level (e.g., High School, Bachelor's, Master's, Doctorate)\n",
    "Likert Scale Responses (e.g., Strongly Disagree, Disagree, Neutral, Agree, Strongly Agree)\n",
    "Interval Level:\n",
    "Data at the interval level have meaningful intervals between values, but there is no true zero point. This means that while you can measure the differences between values, you cannot make meaningful statements about ratios. Examples of interval variables include:\n",
    "\n",
    "Temperature in Celsius or Fahrenheit (e.g., 20°C, 30°C, 40°C)\n",
    "IQ Scores (e.g., 100, 120, 140)\n",
    "Ratio Level:\n",
    "At the ratio level, data have meaningful intervals between values and a true zero point, which allows for meaningful statements about ratios. This is the highest level of measurement. Examples of ratio variables include:\n",
    "\n",
    "Height (e.g., 160 cm, 180 cm, 200 cm)\n",
    "Age (e.g., 25 years, 35 years, 50 years)\n",
    "Income (e.g., $30,000, $50,000, $70,000)\n",
    "Each level of measurement has its own characteristics and implications for how data can be analyzed and interpreted. Nominal and ordinal data typically require non-parametric statistical tests, while interval and ratio data can be analyzed using both non-parametric and parametric methods. The choice of statistical analysis depends on the nature of the data and the research questions being addressed."
   ]
  },
  {
   "cell_type": "markdown",
   "id": "4a394f1b-a7c1-4931-82d2-0a918bf6b5a2",
   "metadata": {},
   "source": [
    "Q6. Why is it important to understand the level of measurement when analyzing data? Provide an\n",
    "example to illustrate your answer."
   ]
  },
  {
   "cell_type": "markdown",
   "id": "ac57ca79-28f8-4337-84c3-6e67f4ea64c5",
   "metadata": {},
   "source": [
    "Understanding the level of measurement is crucial when analyzing data because it determines the types of statistical analyses and operations that can be applied to the data, as well as the appropriate interpretations that can be made. There are four levels of measurement: nominal, ordinal, interval, and ratio. Each level has its own characteristics and limitations, which impact the statistical methods that can be used.\n",
    "\n",
    "Nominal Level:\n",
    "Data at the nominal level are categorical and can only be categorized into distinct groups. These categories have no inherent order or numerical meaning. Examples include colors, gender, or types of animals. You can count and calculate frequencies, but you cannot perform meaningful arithmetic operations or calculate measures like means or standard deviations.\n",
    "Example: Analyzing the distribution of favorite colors (red, blue, green, etc.) among a group of people.\n",
    "\n",
    "Ordinal Level:\n",
    "Data at the ordinal level have categories that can be ranked or ordered, but the differences between ranks might not be uniform or meaningful. Examples include educational levels, customer satisfaction ratings (like \"very dissatisfied,\" \"neutral,\" \"very satisfied\"). You can compare ranks and calculate medians, but arithmetic operations and meaningful distances are not appropriate.\n",
    "Example: Analyzing the preference ranking of movie genres (action, comedy, drama, etc.) among survey respondents.\n",
    "\n",
    "Interval Level:\n",
    "Data at the interval level have meaningful intervals between values, but there is no true zero point. You can perform addition and subtraction operations, but multiplication and division are not meaningful. Examples include temperature in Celsius or Fahrenheit. You can calculate means, standard deviations, and perform t-tests, but you cannot say that one value is \"twice\" another in any meaningful sense.\n",
    "Example: Analyzing the performance ratings (on a scale of 1 to 10) of employees in a company.\n",
    "\n",
    "Ratio Level:\n",
    "Data at the ratio level have a true zero point, and meaningful ratios can be calculated. This level supports all arithmetic operations, including multiplication and division. Examples include height, weight, income, and age (when age is measured from birth). You can calculate means, standard deviations, perform t-tests, and use more advanced statistical techniques.\n",
    "Example: Analyzing the weights of different animal species in a biology study.\n",
    "\n",
    "In summary, understanding the level of measurement is essential because it guides the choice of appropriate statistical analyses, helps avoid incorrect interpretations, and ensures that the results obtained from the data are valid and meaningful. Applying inappropriate statistical methods can lead to misleading conclusions and erroneous decisions."
   ]
  },
  {
   "cell_type": "markdown",
   "id": "211ffb65-c714-4faf-8ea1-01ff279824c4",
   "metadata": {},
   "source": [
    "Q7. How nominal data type is different from ordinal data type."
   ]
  },
  {
   "cell_type": "markdown",
   "id": "2b70814e-16b3-490e-b9f3-030d91f7fd2a",
   "metadata": {},
   "source": [
    "\n",
    "Nominal and ordinal are two different levels of measurement used to categorize data in statistics. They are distinct in terms of the characteristics and information they provide about the data.\n",
    "\n",
    "Nominal Data:\n",
    "Nominal data is a type of categorical data where the categories represent different groups or labels with no inherent order or ranking between them. These categories are often qualitative in nature and can't be arranged in a meaningful sequence. Examples of nominal data include colors, gender categories (male, female, other), types of animals, or political affiliations. You can assign labels or codes to different categories, but you can't establish a clear hierarchy or rank among them using the nominal scale.\n",
    "\n",
    "Ordinal Data:\n",
    "Ordinal data, on the other hand, is also categorical data, but it carries more information than nominal data. In ordinal data, the categories have a meaningful order or ranking associated with them, but the differences between the categories are not necessarily uniform or measurable. Examples of ordinal data include educational levels (elementary, high school, college, postgraduate), customer satisfaction ratings (poor, fair, good, excellent), or socioeconomic status categories (low, middle, high).\n",
    "\n",
    "The key differences between nominal and ordinal data are:\n",
    "\n",
    "Order: Ordinal data has a clear order or ranking among the categories, while nominal data does not.\n",
    "Magnitude of Differences: Ordinal data may indicate a relative difference in ranking, but the magnitude of the difference between categories might not be uniform or quantifiable. In nominal data, there's no notion of meaningful differences between categories.\n",
    "Arithmetic Operations: You can't perform arithmetic operations like addition or multiplication on either nominal or ordinal data, but in some cases, you can calculate modes or medians for ordinal data, which might not be meaningful for nominal data.\n",
    "Examples: Nominal data examples include colors or types of animals, while ordinal data examples include rankings like educational levels or customer satisfaction ratings.\n",
    "In summary, nominal data represents unordered categories, while ordinal data represents categories with a meaningful order or ranking. Both are important concepts in statistics, as they help researchers categorize and analyze data with varying levels of information."
   ]
  },
  {
   "cell_type": "markdown",
   "id": "1083848c-815f-4b6c-bcee-da6ace243985",
   "metadata": {},
   "source": [
    "Q8. Which type of plot can be used to display data in terms of range?"
   ]
  },
  {
   "cell_type": "markdown",
   "id": "b502a15f-38cf-43e1-b1f9-38c0b748b7d0",
   "metadata": {},
   "source": [
    "A type of plot that can be used to display data in terms of range is a \"box plot\" or \"box-and-whisker plot.\" This type of plot provides a visual representation of the distribution of data along with information about its central tendency and spread. The key features of a box plot include:\n",
    "\n",
    "Box: The box represents the interquartile range (IQR), which contains the middle 50% of the data. The bottom and top edges of the box represent the first quartile (Q1) and third quartile (Q3) respectively, while the height of the box indicates the spread within this range.\n",
    "\n",
    "Whiskers: The whiskers extend from the edges of the box to the minimum and maximum values within a certain distance from the quartiles. The distance can vary and is typically determined by the data distribution.\n",
    "\n",
    "Outliers: Individual data points that fall outside the whiskers are considered outliers and are often plotted individually using dots or other markers.\n",
    "\n",
    "Median: A line (often inside the box) represents the median or the middle value of the data set.\n",
    "\n",
    "A box plot is useful for identifying the range of values in the data, detecting potential outliers, and understanding the spread of the data's distribution. It's particularly effective when comparing multiple data sets or groups."
   ]
  },
  {
   "cell_type": "markdown",
   "id": "7f6388ef-60a6-4841-a685-699b45e43cb2",
   "metadata": {},
   "source": [
    "Q9. Describe the difference between descriptive and inferential statistics. Give an example of each\n",
    "type of statistics and explain how they are used."
   ]
  },
  {
   "cell_type": "markdown",
   "id": "fd5c1eca-c20f-4cd3-bd4c-12f8d71783a3",
   "metadata": {},
   "source": [
    "Descriptive Statistics:\n",
    "\n",
    "Descriptive statistics are used to summarize and describe the main features of a dataset. They provide a concise overview of the data's characteristics without making inferences about the broader population. Descriptive statistics are used to organize, present, and summarize the data, making it easier to understand and interpret. Some common measures of descriptive statistics include measures of central tendency (mean, median, mode), measures of variability (range, variance, standard deviation), and graphical representations like histograms or bar charts.\n",
    "\n",
    "Example of Descriptive Statistics:\n",
    "Suppose you have a dataset of the ages of a group of people: {25, 28, 30, 32, 35}. Descriptive statistics would involve calculating the mean age (30 years), the range (10 years), and possibly plotting a histogram to visualize the age distribution.\n",
    "\n",
    "Inferential Statistics:\n",
    "\n",
    "Inferential statistics involve making inferences or drawing conclusions about a larger population based on a sample of data. Instead of just describing the data at hand, inferential statistics aim to make predictions, test hypotheses, or estimate population parameters using sample data. This involves techniques like hypothesis testing, confidence intervals, and regression analysis. Inferential statistics allow you to generalize the findings from a sample to a larger population, but there's always a degree of uncertainty associated with these inferences.\n",
    "\n",
    "Example of Inferential Statistics:\n",
    "Consider a scenario where you want to know if a new drug is effective in reducing blood pressure. You randomly select a sample of 100 individuals, administer the drug to half of them, and give a placebo to the other half. After a period, you compare the average blood pressure levels between the two groups using appropriate statistical tests. The results allow you to infer whether the drug has a significant effect on blood pressure in the broader population.\n",
    "\n",
    "In summary, descriptive statistics provide a summary of data's characteristics, while inferential statistics involve making predictions or drawing conclusions about a larger population based on sample data. Both types of statistics play crucial roles in research and decision-making processes."
   ]
  },
  {
   "cell_type": "markdown",
   "id": "40076273-73f1-4fb7-9d5a-631f47b2f68c",
   "metadata": {},
   "source": [
    "Q10. What are some common measures of central tendency and variability used in statistics? Explain\n",
    "how each measure can be used to describe a dataset."
   ]
  },
  {
   "cell_type": "markdown",
   "id": "7210938e-e0af-49de-83d6-343789a7942a",
   "metadata": {},
   "source": [
    "Measures of Central Tendency:\n",
    "\n",
    "Mean: The mean is the average of all the values in a dataset. It's calculated by adding up all the values and dividing by the number of values. The mean is a useful measure when you want to find the typical value in a dataset. It's sensitive to extreme values, also known as outliers.\n",
    "\n",
    "Use: If you're analyzing the average income of a group of people, the mean would provide a good idea of their typical earnings.\n",
    "\n",
    "Median: The median is the middle value when the dataset is ordered from least to greatest. If the dataset has an even number of values, the median is the average of the two middle values. The median is less affected by outliers compared to the mean, making it a better choice when the data is skewed.\n",
    "\n",
    "Use: When looking at salaries in a company, the median is a better choice if a few executives earn significantly more than the rest of the employees.\n",
    "\n",
    "Mode: The mode is the value that appears most frequently in a dataset. A dataset can have no mode (all values are unique) or multiple modes (multiple values with the highest frequency). The mode is useful when you want to identify the most common value.\n",
    "\n",
    "Use: In survey data about people's favorite colors, the mode would tell you which color is most popular.\n",
    "\n",
    "Measures of Variability:\n",
    "\n",
    "Range: The range is the difference between the maximum and minimum values in a dataset. It gives you an idea of how spread out the data is but is sensitive to outliers and doesn't provide a comprehensive view of variability.\n",
    "\n",
    "Use: If you're examining the range of temperatures recorded in a month, you'll see the difference between the warmest and coldest days.\n",
    "\n",
    "Variance: Variance measures the average of the squared differences between each data point and the mean. It gives an indication of how much individual data points deviate from the mean. A higher variance indicates greater variability.\n",
    "\n",
    "Use: In assessing the consistency of student test scores, a higher variance might indicate that students' performances vary widely.\n",
    "\n",
    "Standard Deviation: The standard deviation is the square root of the variance. It measures the average amount by which data points deviate from the mean. A smaller standard deviation indicates that data points are closer to the mean, while a larger one suggests greater spread.\n",
    "\n",
    "Use: When analyzing the variability in the weights of a certain breed of dogs, a higher standard deviation would indicate a wider range of weights.\n",
    "\n",
    "Interquartile Range (IQR): The IQR is the difference between the third quartile (75th percentile) and the first quartile (25th percentile) of the data. It's less affected by extreme values than the range and provides a measure of spread around the median.\n",
    "\n",
    "Use: In analyzing housing prices, the IQR would give you an idea of the price range within which most houses fall.\n",
    "\n",
    "By considering both measures of central tendency and variability, you can gain a more comprehensive understanding of a dataset's characteristics and make more informed decisions in your analysis."
   ]
  }
 ],
 "metadata": {
  "kernelspec": {
   "display_name": "Python 3 (ipykernel)",
   "language": "python",
   "name": "python3"
  },
  "language_info": {
   "codemirror_mode": {
    "name": "ipython",
    "version": 3
   },
   "file_extension": ".py",
   "mimetype": "text/x-python",
   "name": "python",
   "nbconvert_exporter": "python",
   "pygments_lexer": "ipython3",
   "version": "3.10.8"
  }
 },
 "nbformat": 4,
 "nbformat_minor": 5
}
