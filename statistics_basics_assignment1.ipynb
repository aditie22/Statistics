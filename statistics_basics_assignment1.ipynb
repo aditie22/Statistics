{
 "cells": [
  {
   "cell_type": "markdown",
   "id": "5eeb39c7-2ad2-42fb-94ac-a0c0aa071d74",
   "metadata": {},
   "source": [
    "Q1. What are the three measures of central tendency?"
   ]
  },
  {
   "cell_type": "markdown",
   "id": "d0e7226a-7d5b-4014-81ee-e81baaecb521",
   "metadata": {},
   "source": [
    "solution: Mean, Median and Mode are the 3 measures of central tendancy"
   ]
  },
  {
   "cell_type": "markdown",
   "id": "1b68ce73-91ee-4ff4-8d5a-da410923206b",
   "metadata": {},
   "source": [
    "Q2. What is the difference between the mean, median, and mode? How are they used to measure the\n",
    "central tendency of a dataset?"
   ]
  },
  {
   "cell_type": "markdown",
   "id": "f7bc6a16-7786-4d43-b972-34868ab281d9",
   "metadata": {},
   "source": [
    "Mean: it is the average of all the datapoints. sum(datapoints)/len(datapoints). mean is not a good process to use when there are outliers in the data.\n",
    "Median: for calculating median we need to sort the datapoints. if numbers of datapoints are even. take average of middile 2 elements and whatever answer is coming that is considered as median. if number of elements are odd then middle element is the median. it is used when you want to deal with outliers present in the data.\n",
    "Mode: Which datapoint is occuring maximum number of times or frequency of datapoints is mode."
   ]
  },
  {
   "cell_type": "markdown",
   "id": "fbe2e920-aac0-4101-b791-3d14b21efd19",
   "metadata": {},
   "source": [
    "Q3.Measure the three measures of central tendency for the given height data:\n",
    "[178,177,176,177,178.2,178,175,179,180,175,178.9,176.2,177,172.5,178,176.5]"
   ]
  },
  {
   "cell_type": "code",
   "execution_count": 1,
   "id": "ca2a45b8-4d2a-4f27-a8cd-aed1f0be4a9d",
   "metadata": {},
   "outputs": [
    {
     "name": "stdout",
     "output_type": "stream",
     "text": [
      "Mean of height data is: 177.01875\n"
     ]
    }
   ],
   "source": [
    "import numpy as np\n",
    "data=[178,177,176,177,178.2,178,175,179,180,175,178.9,176.2,177,172.5,178,176.5]\n",
    "mean1=np.mean(data)\n",
    "print(\"Mean of height data is:\",mean1)"
   ]
  },
  {
   "cell_type": "code",
   "execution_count": 2,
   "id": "a7bcf8ee-1f28-4151-a333-d7ad54025d2a",
   "metadata": {},
   "outputs": [
    {
     "name": "stdout",
     "output_type": "stream",
     "text": [
      "Mean of height data is: 177.01875\n"
     ]
    }
   ],
   "source": [
    "import numpy as np\n",
    "data=[178,177,176,177,178.2,178,175,179,180,175,178.9,176.2,177,172.5,178,176.5]\n",
    "mean1=sum(data)/len(data)\n",
    "print(\"Mean of height data is:\",mean1)"
   ]
  },
  {
   "cell_type": "code",
   "execution_count": 4,
   "id": "aa4403b0-5702-4ee1-abd9-ddca05f956a7",
   "metadata": {},
   "outputs": [
    {
     "name": "stdout",
     "output_type": "stream",
     "text": [
      "Median of height data is: 177.0\n"
     ]
    }
   ],
   "source": [
    "import numpy as np\n",
    "data=[178,177,176,177,178.2,178,175,179,180,175,178.9,176.2,177,172.5,178,176.5]\n",
    "med=np.median(data)\n",
    "print(\"Median of height data is:\",med)"
   ]
  },
  {
   "cell_type": "markdown",
   "id": "68240ea1-bcef-44c7-9934-03e5b0392c33",
   "metadata": {},
   "source": [
    "data=[178,177,176,177,178.2,178,175,179,180,175,178.9,176.2,177,172.5,178,176.5]\n",
    "sorted_data=[172.5,175,175,175,176,176.2,176.5,177,177,177,178,178,178.2,178.9,179,180]\n",
    "since numbers of elements are even therefore taking 2 middle elements that is 177,177.\n",
    "taking average of 2 middle elments: 177+177/2=354/2= 177\n",
    "therefore 177 is the medain"
   ]
  },
  {
   "cell_type": "code",
   "execution_count": 10,
   "id": "383b9844-2288-4af2-9383-c9ebf8e4ffed",
   "metadata": {},
   "outputs": [
    {
     "name": "stdout",
     "output_type": "stream",
     "text": [
      "Mode of height data is: [172.5 175.  176.  176.2 176.5 177.  178.  178.2 178.9 179.  180. ]\n"
     ]
    }
   ],
   "source": [
    "import numpy as np\n",
    "data=[178,177,176,177,178.2,178,175,179,180,175,178.9,176.2,177,172.5,178,176.5]\n",
    "mode=np.unique(data)\n",
    "print(\"Mode of height data is:\",mode)"
   ]
  },
  {
   "cell_type": "markdown",
   "id": "a7e86d97-12a1-45fd-b531-71958b465be4",
   "metadata": {},
   "source": [
    "mode of the data is: [177.0,178.0]"
   ]
  },
  {
   "cell_type": "markdown",
   "id": "254f4f5f-f7ef-46db-b77d-b3bc0d94f88e",
   "metadata": {},
   "source": [
    "Q4. Find the standard deviation for the given data:\n",
    "[178,177,176,177,178.2,178,175,179,180,175,178.9,176.2,177,172.5,178,176.5]"
   ]
  },
  {
   "cell_type": "code",
   "execution_count": 12,
   "id": "c2b8ff08-ee30-4574-a16d-b0f2e8a6fca1",
   "metadata": {},
   "outputs": [
    {
     "name": "stdout",
     "output_type": "stream",
     "text": [
      "Varinace of height data is: 3.199023437500001\n",
      "Standard Deviation of height data is: 1.7885814036548633\n"
     ]
    }
   ],
   "source": [
    "import numpy as np\n",
    "import math\n",
    "data=[178,177,176,177,178.2,178,175,179,180,175,178.9,176.2,177,172.5,178,176.5]\n",
    "variance=np.var(data)\n",
    "std_deviation=np.sqrt(variance)\n",
    "print(\"Varinace of height data is:\",variance)\n",
    "print(\"Standard Deviation of height data is:\",std_deviation)"
   ]
  },
  {
   "cell_type": "markdown",
   "id": "642e485e-35ba-4b11-93df-49663e942963",
   "metadata": {},
   "source": [
    "variance=[(178-177)^2+(177-177)^2+(176-177)^2+(177-177)^2+(178.2-177)^2+(178-177)^2+(175-177)^2+(179-177)^2\n",
    "          +(180-177)^2+(175-177)^2+(178.9-177)^2+(176.2-177)^2+(177-177)^2+(172.5-177)^2+(178-177)^2+(176.5-177)^2]/16\n",
    "\n",
    "variance=1+0+1+0+1.44+1+4+4+9+4+3.61+0.64+0+20.25+1+0.25/16\n",
    "variance=51.19/16\n",
    "variance=3.199\n",
    "standard_deviation=1.788"
   ]
  },
  {
   "cell_type": "markdown",
   "id": "53d354cf-109b-442d-80d6-b59c8f6e8845",
   "metadata": {},
   "source": [
    "Q5. How are measures of dispersion such as range, variance, and standard deviation used to describe\n",
    "the spread of a dataset? Provide an example.\n",
    "\n",
    "soultion:Measures of dispersion, such as range, variance, and standard deviation, are used to describe how much the data points in a dataset vary or spread out from the central tendency (usually represented by the mean). These measures provide insights into the degree of variability or dispersion within the data and can help understand the overall distribution of the dataset.\n",
    "\n",
    "Range: represents the difference between the largest and smallest values in the dataset. gives rough idea of spread of data but sensitive to outliers.\n",
    "\n",
    "Variance: takes into account individual distances of each data point from mean. It is average of squared differences between each data point and mean. Variance is always non-negative, and higher values indicate more significant dispersion.\n",
    "\n",
    "Standard Deviation: square root of the variance and is the most widely used measure of dispersion. It provides measure of dispersion in original units of the data, making it more interpretable. A higher standard deviation indicates more spread or variability in the dataset.\n",
    "\n",
    "Example:\n",
    "following dataset representing daily temperatures recorded for past 10 days:\n",
    "\n",
    "{ 28, 30, 29, 25, 31, 26, 27, 32, 29, 28 }\n",
    "\n",
    "Step 1: mean of the dataset.\n",
    "Mean = (28 + 30 + 29 + 25 + 31 + 26 + 27 + 32 + 29 + 28) / 10 = 28.5\n",
    "\n",
    "Step 2: Calculate range.\n",
    "Range = Maximum value - Minimum value = 32 - 25 = 7\n",
    "\n",
    "Step 3: Calculate variance.\n",
    "Variance = [(28 - 28.5)^2 + (30 - 28.5)^2 + (29 - 28.5)^2 + (25 - 28.5)^2 + (31 - 28.5)^2 + (26 - 28.5)^2 + (27 - 28.5)^2 + (32 - 28.5)^2 + (29 - 28.5)^2 + (28 - 28.5)^2] / 10\n",
    "Variance = 5.25\n",
    "\n",
    "Step 4: Calculate standard deviation.\n",
    "Standard Deviation = √5.25 = 2.29\n",
    "\n",
    "In this example, range is 7, variance is approximately 5.25, and standard deviation is approximately 2.29. standard deviation being relatively low suggests that the temperatures are not significantly spread out from the mean, indicating a relatively stable climate during the recorded period."
   ]
  },
  {
   "cell_type": "markdown",
   "id": "480447b6-f5b9-4ff3-bee3-4d3f08f5b195",
   "metadata": {},
   "source": [
    "Q6. What is a Venn diagram?\n",
    "\n",
    "solution: A Venn diagram is graphical representation used to show relationships between different sets of items. It was introduced by John Venn in the late 19th century as a way to visualize set theory concepts. Venn diagrams use overlapping circles or other shapes to depict the common and distinct elements among different sets.\n",
    "\n",
    "main parts of a Venn diagram are:\n",
    "\n",
    "Circles: Each circle represents a set. The items or elements belonging to that set are enclosed within the circle.\n",
    "\n",
    "Overlapping regions: When two or more circles overlap, the shared area represents the elements that are common to the sets involved in the overlap.\n",
    "\n",
    "The size of the circles and their overlap can vary based on the number of elements in each set and the relationships between the sets. The more overlap there is between circles, the more elements two or more sets have in common.\n",
    "\n",
    "Venn diagrams are commonly used in various fields, including mathematics, logic, statistics, and data analysis, to illustrate set operations, logical relationships, and the intersection between different categories."
   ]
  },
  {
   "cell_type": "markdown",
   "id": "fc131261-7a34-4487-a9cf-ee8cf474a3d9",
   "metadata": {},
   "source": [
    "Q7. For the two given sets A = (2,3,4,5,6,7) & B = (0,2,6,8,10). Find:\n",
    "(i) A intersection B\n",
    "(ii) A ⋃ B\n",
    "\n",
    "Solution: (i) A intersection B =(2,6)\n",
    "(ii) A ⋃ B=(0,2,3,4,5,6,7,8,10)"
   ]
  },
  {
   "cell_type": "markdown",
   "id": "49eff07f-f7c5-48bf-82d6-7319b4e6437a",
   "metadata": {},
   "source": [
    "Q8. What do you understand about skewness in data?\n",
    "Soultion: Data is not symmetrical. That is all sides are not equal. There is a bending in the data. it quantifies the extent to which a dataset deviates from being symmetrical or bell-shaped"
   ]
  },
  {
   "cell_type": "markdown",
   "id": "266567b0-5d8c-4874-adad-dd788fadb1eb",
   "metadata": {},
   "source": [
    "Q9. If a data is right skewed then what will be the position of median with respect to mean?\n",
    "Solution: occurs when the tail of the distribution is stretched out to the right, indicating that the data has a few large values that pull the mean in that direction. The majority of the data is concentrated towards the lower values.\n",
    "mean is typically larger than the median"
   ]
  },
  {
   "cell_type": "markdown",
   "id": "c2791332-8010-4eae-9cb6-66e22d282d48",
   "metadata": {},
   "source": [
    "Q10. Explain the difference between covariance and correlation. How are these measures used in\n",
    "statistical analysis?\n",
    "Solution: Correlation is a standardized measure of the linear relationship between two variables. Unlike covariance, correlation provides a more interpretable value that ranges between -1 and 1. A correlation of 1 indicates a perfect positive linear relationship, -1 indicates a perfect negative linear relationship, and 0 indicates no linear relationship between the variables. Correlation allows for a more direct comparison between different pairs of variables because it is not affected by the scale of the variables.\n",
    "Covariance measures the degree to which two variables change together. It shows whether an increase or decrease in one variable is associated with a similar change in the other variable. A positive covariance indicates that as one variable increases, the other tends to increase as well, and vice versa for decreases. Conversely, a negative covariance indicates that as one variable increases, the other tends to decrease, and vice versa."
   ]
  },
  {
   "cell_type": "markdown",
   "id": "bf760feb-ca33-4981-b8a1-9413eed5a478",
   "metadata": {},
   "source": [
    "Q11. What is the formula for calculating the sample mean? Provide an example calculation for a\n",
    "dataset.\n",
    "solution: summation of xi/n where xi=datapoint n=sample size \n",
    "dataset: [28, 34, 25, 29, 31]\n",
    "Now, values from the dataset:\n",
    "x_bar=28+34+25+29+31/5\n",
    "x_bar=147/5\n",
    "x_bar=29.4\n",
    "So, the sample mean of this dataset is 29.4. "
   ]
  },
  {
   "cell_type": "markdown",
   "id": "a10d18eb-ac0e-4ce8-a196-ee04d5f2cd76",
   "metadata": {},
   "source": [
    "Q12. For a normal distribution data what is the relationship between its measure of central tendency?\n",
    "Solution: Mean (μ): The mean is the arithmetic average of all the data points in the distribution. For a perfectly symmetrical normal distribution, the mean is equal to the median and mode. This is one of the defining characteristics of a normal distribution.\n",
    "\n",
    "Median: The median is the middle value of the data when arranged in ascending or descending order. For a perfectly symmetrical normal distribution, the median is also equal to the mean and mode.\n",
    "\n",
    "Mode: The mode is the value that occurs with the highest frequency in the data. In a normal distribution, the mode is also equal to the mean and median in a symmetrical distribution.\n",
    "\n",
    "So, for a normal distribution, the mean, median, and mode are all equal when the distribution is perfectly symmetrical. "
   ]
  },
  {
   "cell_type": "markdown",
   "id": "b596eca6-cc4f-4a61-893e-4801a754436f",
   "metadata": {},
   "source": [
    "Q13.How is covariance different from correlation?\n",
    "Solution: The key difference between covariance and correlation is that covariance provides information about the direction of the relationship between two variables (positive or negative), but it does not quantify the strength of the relationship. Correlation, on the other hand, not only gives the direction but also provides a standardized measure of the strength, making it more interpretable and comparable across datasets with different units and scales.\n",
    "\n",
    "\n",
    "\n",
    "\n"
   ]
  },
  {
   "cell_type": "markdown",
   "id": "f74416bf-4f73-4c89-8852-ea17ea56cd19",
   "metadata": {},
   "source": [
    "Q14. Q14. How do outliers affect measures of central tendency and dispersion? Provide an example.\n",
    "solution: \n",
    "Outliers can have a significant impact on measures of central tendency and dispersion in a dataset. Measures of central tendency, such as the mean, median, and mode, are used to represent the typical or central value of the data, while measures of dispersion, like the range, variance, and standard deviation, indicate how spread out the data points are.\n",
    "\n",
    "Measures of Central Tendency:\n",
    "\n",
    "Mean: The mean is particularly sensitive to outliers because it takes into account every data point. Even a single extreme outlier can significantly affect the mean, pulling it away from the center of the data.\n",
    "Median: The median is less affected by outliers. It represents the middle value when the data is arranged in ascending or descending order. Outliers only impact the median when they lie outside the middle portion of the data.\n",
    "Mode: The mode represents the most frequently occurring value in the dataset. Outliers that are far from the rest of the data may not affect the mode.\n",
    "Measures of Dispersion:\n",
    "\n",
    "Range: The range is the difference between the maximum and minimum values in the dataset. Outliers can increase the range if they are extreme values, leading to a larger spread.\n",
    "Variance and Standard Deviation: Both variance and standard deviation quantify the average deviation of data points from the mean. Outliers increase the variance and standard deviation because they can be significantly distant from the mean, widening the spread.\n",
    "Example:\n",
    "Consider a dataset of exam scores for a math class:\n",
    "\n",
    "65, 70, 72, 75, 78, 80, 85, 95, 100, 120\n",
    "\n",
    "Here, the dataset contains an outlier, 120, which is significantly higher than the rest of the scores. Let's see how it affects the measures of central tendency and dispersion:\n",
    "\n",
    "Central Tendency:\n",
    "\n",
    "Mean: (65 + 70 + 72 + 75 + 78 + 80 + 85 + 95 + 100 + 120) / 10 = 80\n",
    "With the outlier included, the mean is pulled towards the higher value of 80.\n",
    "\n",
    "Median: Since there are 10 data points, the median is the average of the 5th and 6th values: (78 + 80) / 2 = 79\n",
    "The median is less affected by the outlier and remains close to the center of the data.\n",
    "\n",
    "Mode: There is no mode in this dataset since all values occur only once.\n",
    "Dispersion:\n",
    "\n",
    "Range: Range = 120 - 65 = 55\n",
    "The range is increased significantly due to the presence of the outlier.\n",
    "\n",
    "Variance and Standard Deviation: The variance and standard deviation will also be affected by the outlier, resulting in larger values due to the increased spread caused by the extreme value."
   ]
  },
  {
   "cell_type": "code",
   "execution_count": null,
   "id": "68efccaf-93ec-4ef1-9bb4-823ab4c0c59a",
   "metadata": {},
   "outputs": [],
   "source": []
  }
 ],
 "metadata": {
  "kernelspec": {
   "display_name": "Python 3 (ipykernel)",
   "language": "python",
   "name": "python3"
  },
  "language_info": {
   "codemirror_mode": {
    "name": "ipython",
    "version": 3
   },
   "file_extension": ".py",
   "mimetype": "text/x-python",
   "name": "python",
   "nbconvert_exporter": "python",
   "pygments_lexer": "ipython3",
   "version": "3.10.8"
  }
 },
 "nbformat": 4,
 "nbformat_minor": 5
}
