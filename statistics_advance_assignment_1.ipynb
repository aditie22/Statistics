{
 "cells": [
  {
   "cell_type": "markdown",
   "id": "f95ff2b9-3caf-4e86-838f-5fdd93338607",
   "metadata": {},
   "source": [
    "Q1. What is the Probability density function?"
   ]
  },
  {
   "cell_type": "markdown",
   "id": "d341f9fb-4c52-4698-9530-e375b92b41b3",
   "metadata": {},
   "source": [
    "It is a type of probability distribution function. It denotes how your data is distributed. It works on continuous random variables. Example: height of students in class."
   ]
  },
  {
   "cell_type": "markdown",
   "id": "c5b1ee43-a937-4210-8329-aa4b0c1f8581",
   "metadata": {},
   "source": [
    "Q2. What are the types of Probability distribution?"
   ]
  },
  {
   "cell_type": "markdown",
   "id": "9383c149-f65b-40bb-9002-7d6db45996c8",
   "metadata": {},
   "source": [
    "There are 3 major types of probability distribution functions: i. Probability density function ii. Probability mass function iii. Cumulative Distribution Function.where proabaility distribution function works on continuous random variable ,proability mass function works on discrete random variable and cumulative distribution function is a part of probability density function which is again a part of continuous random variable.Inside these 3 major types we have: i. Normal Distribution ii. Bernoulli Distribution iii.Uniform Distribution iv. Poisson Distribution v. Log Normal Distribution vi. Binomial Distribution"
   ]
  },
  {
   "cell_type": "markdown",
   "id": "c832849a-9528-4b7c-b08f-197f76afd591",
   "metadata": {},
   "source": [
    "Q3. Write a Python function to calculate the probability density function of a normal distribution with\n",
    "given mean and standard deviation at a given point."
   ]
  },
  {
   "cell_type": "code",
   "execution_count": 1,
   "id": "c7b1fb45-ba42-490c-903b-78dca39a1da2",
   "metadata": {},
   "outputs": [
    {
     "name": "stdout",
     "output_type": "stream",
     "text": [
      "The PDF at point 1.5 is: 0.1295\n"
     ]
    }
   ],
   "source": [
    "import math\n",
    "def normal_pdf(x, mean, std_dev):\n",
    "    if std_dev <= 0:\n",
    "        raise ValueError(\"Standard deviation must be greater than zero.\")\n",
    "    coefficient = 1 / (std_dev * math.sqrt(2 * math.pi))\n",
    "    exponent = -(pow((x - mean), 2) / (2 * pow(std_dev, 2)))\n",
    "    pdf_value = coefficient * math.exp(exponent)\n",
    "    return pdf_value\n",
    "mean = 0\n",
    "std_dev = 1\n",
    "point = 1.5\n",
    "pdf_at_point = normal_pdf(point, mean, std_dev)\n",
    "print(f\"The PDF at point {point} is: {pdf_at_point:.4f}\")"
   ]
  },
  {
   "cell_type": "markdown",
   "id": "9c6571b2-576a-4580-bd6d-65bf1b5ef99d",
   "metadata": {},
   "source": [
    "Q4. What are the properties of Binomial distribution? Give two examples of events where binomial\n",
    "distribution can be applied."
   ]
  },
  {
   "cell_type": "markdown",
   "id": "88277467-fe78-42a7-9a98-16356a36c926",
   "metadata": {},
   "source": [
    "It has 2 parameters n and p. It is the discrete probability distirbution of number of successes in a sequence of n independent experiments, each asking yes-no question and each with its own boolean valued outcome: success with probability p or failure with probability 1-p=q.Example: 1. Rolling of a dice. 2. Tossing a coin"
   ]
  },
  {
   "cell_type": "markdown",
   "id": "e04986b3-09e9-4f21-99a9-67d2721d6f86",
   "metadata": {},
   "source": [
    "Q5. Generate a random sample of size 1000 from a binomial distribution with probability of success 0.4\n",
    "and plot a histogram of the results using matplotlib."
   ]
  },
  {
   "cell_type": "code",
   "execution_count": 2,
   "id": "448a9fe5-5149-488b-87bf-caaff031da1f",
   "metadata": {},
   "outputs": [
    {
     "data": {
      "image/png": "[encoded data removed]",
      "text/plain": [
       "<Figure size 640x480 with 1 Axes>"
      ]
     },
     "metadata": {},
     "output_type": "display_data"
    }
   ],
   "source": [
    "import numpy as np\n",
    "import matplotlib.pyplot as plt\n",
    "probability_of_success = 0.4\n",
    "sample_size = 1000\n",
    "random_sample = np.random.binomial(1, probability_of_success, sample_size)\n",
    "plt.hist(random_sample, bins=2, edgecolor='black')\n",
    "plt.xlabel('Success (1) or Failure (0)')\n",
    "plt.ylabel('Frequency')\n",
    "plt.title(f'Binomial Distribution (p={probability_of_success}, n={sample_size})')\n",
    "plt.xticks([0, 1], ['Failure', 'Success'])\n",
    "plt.grid(axis='y', linestyle='--', alpha=0.7)\n",
    "plt.show()"
   ]
  },
  {
   "cell_type": "markdown",
   "id": "7456d4e7-bff0-480f-91ea-fe078d8f0bb3",
   "metadata": {},
   "source": [
    "Q6. Write a Python function to calculate the cumulative distribution function of a Poisson distribution\n",
    "with given mean at a given point."
   ]
  },
  {
   "cell_type": "code",
   "execution_count": 10,
   "id": "2528a89c-00b9-4eb4-ba6b-9d80de324e54",
   "metadata": {},
   "outputs": [
    {
     "name": "stdout",
     "output_type": "stream",
     "text": [
      "CDF at k=2: 0.42319008112684353\n"
     ]
    }
   ],
   "source": [
    "import math\n",
    "\n",
    "def poisson_cdf(mean, k):\n",
    "    if mean <= 0 or k < 0:\n",
    "        raise ValueError(\"Mean and k must be positive values.\")\n",
    "\n",
    "    cdf = 0.0\n",
    "    for i in range(k + 1):\n",
    "        cdf += (math.exp(-mean) * mean**i) / math.factorial(i)\n",
    "    \n",
    "    return cdf\n",
    "mean = 3\n",
    "k = 2\n",
    "result = poisson_cdf(mean, k)\n",
    "print(f\"CDF at k={k}: {result}\")"
   ]
  },
  {
   "cell_type": "markdown",
   "id": "bac12ef7-910c-4a75-8208-aac1afe1bd71",
   "metadata": {},
   "source": [
    "Q7. How Binomial distribution different from Poisson distribution?"
   ]
  },
  {
   "cell_type": "markdown",
   "id": "4901d246-223e-4a17-91c2-e3b9a8a5903a",
   "metadata": {},
   "source": [
    "In binomial distribution we have 2 parameters that is n and p where n is number of trials and p is probability of successes. It uses discrete random variable belongs to probability mass function. Poisson Distribution: It also uses discrete random variable and probability mass function and it describes number of events occuring in fixed time interval.Example: number of people visiting hospital every hour.  "
   ]
  },
  {
   "cell_type": "markdown",
   "id": "5e317ee0-2955-45ae-9648-d8a3ed68c62a",
   "metadata": {},
   "source": [
    "Q8. Generate a random sample of size 1000 from a Poisson distribution with mean 5 and calculate the\n",
    "sample mean and variance."
   ]
  },
  {
   "cell_type": "code",
   "execution_count": 11,
   "id": "74af0aed-2346-4ada-8a8c-832f47805ab3",
   "metadata": {},
   "outputs": [
    {
     "name": "stdout",
     "output_type": "stream",
     "text": [
      "Sample Mean: 5.079\n",
      "Sample Variance: 5.364759\n"
     ]
    }
   ],
   "source": [
    "import numpy as np\n",
    "import matplotlib.pyplot as plt\n",
    "mean = 5\n",
    "sample_size = 1000\n",
    "random_sample = np.random.poisson(mean, sample_size)\n",
    "sample_mean = np.mean(random_sample)\n",
    "sample_variance = np.var(random_sample)\n",
    "print(\"Sample Mean:\", sample_mean)\n",
    "print(\"Sample Variance:\", sample_variance)"
   ]
  },
  {
   "cell_type": "markdown",
   "id": "2af00587-bee2-464e-88a3-78c33f57f238",
   "metadata": {},
   "source": [
    "Q9. How mean and variance are related in Binomial distribution and Poisson distribution?"
   ]
  },
  {
   "cell_type": "markdown",
   "id": "5ff6e226-6952-47f5-82c8-8c2a24e3527b",
   "metadata": {},
   "source": [
    "Binomial Distribution:\n",
    "Binomial distribution is used to model number of successes in a fixed number of independent Bernoulli trials (experiments with two possible outcomes, usually referred to as success or failure) where the probability of success remains constant across all trials.\n",
    "Suppose you have a binomial distribution with parameters n (number of trials) and p (probability of success in each trial). The mean (μ) and variance (σ²) of the binomial distribution are given by:\n",
    "\n",
    "Mean (μ) = n * p\n",
    "Variance (σ²) = n * p * (1 - p)\n",
    "\n",
    "Here, \"n * p\" represents the expected number of successes, and \"n * p * (1 - p)\" represents the variation or spread around this expected value.\n",
    "\n",
    "Poisson Distribution:\n",
    "Poisson distribution is used to model number of events that occur in a fixed interval of time or space. It is often applied when events are rare and independent of each other. The Poisson distribution is characterized by a single parameter λ (lambda), which represents the average rate of occurrence of the event in the given interval.\n",
    "In the Poisson distribution, both the mean (μ) and variance (σ²) are equal to λ:\n",
    "\n",
    "Mean (μ) = λ *t\n",
    "Variance (σ²) = λ*t\n",
    "\n",
    "where t is time interval and mean is no of occurances of particular event\n",
    "\n",
    "Unlike the binomial distribution, in the Poisson distribution, the mean and variance are not dependent on separate parameters like the number of trials or the probability of success. Instead, they are solely determined by the average rate of occurrence (λ).\n",
    "\n",
    "In summary, in the Binomial distribution, the variance depends on the number of trials and the probability of success, while in the Poisson distribution, the variance is equal to the mean and is solely determined by the average rate of occurrence."
   ]
  },
  {
   "cell_type": "markdown",
   "id": "60edeb9b-086d-4fe4-801c-1b4a87b0351f",
   "metadata": {},
   "source": [
    "Q10. In normal distribution with respect to mean position, where does the least frequent data appear?"
   ]
  },
  {
   "cell_type": "code",
   "execution_count": null,
   "id": "7027200a-3bd6-40ec-8ec1-9eeab45dc312",
   "metadata": {},
   "outputs": [],
   "source": []
  }
 ],
 "metadata": {
  "kernelspec": {
   "display_name": "Python 3 (ipykernel)",
   "language": "python",
   "name": "python3"
  },
  "language_info": {
   "codemirror_mode": {
    "name": "ipython",
    "version": 3
   },
   "file_extension": ".py",
   "mimetype": "text/x-python",
   "name": "python",
   "nbconvert_exporter": "python",
   "pygments_lexer": "ipython3",
   "version": "3.10.8"
  }
 },
 "nbformat": 4,
 "nbformat_minor": 5
}
